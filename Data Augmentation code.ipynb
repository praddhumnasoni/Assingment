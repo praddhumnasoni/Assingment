{
 "cells": [
  {
   "cell_type": "code",
   "execution_count": 1,
   "id": "d74a0e82",
   "metadata": {},
   "outputs": [],
   "source": [
    "import os\n",
    "os.chdir(r\"E:\\Happymonk\\Name plate\\New folder\")"
   ]
  },
  {
   "cell_type": "code",
   "execution_count": 2,
   "id": "1df9f26b",
   "metadata": {},
   "outputs": [],
   "source": [
    "import Augmentor"
   ]
  },
  {
   "cell_type": "code",
   "execution_count": 33,
   "id": "ec06b9b7",
   "metadata": {},
   "outputs": [
    {
     "name": "stdout",
     "output_type": "stream",
     "text": [
      "Initialised with 6 image(s) found.\n",
      "Output directory set to E:\\Happymonk\\Name plate\\Tamil\\output."
     ]
    }
   ],
   "source": [
    "p = Augmentor.Pipeline(r\"E:\\Happymonk\\Name plate\\Tamil\")"
   ]
  },
  {
   "cell_type": "code",
   "execution_count": 34,
   "id": "2ca96ced",
   "metadata": {},
   "outputs": [],
   "source": [
    "p.rotate(probability=1.0, max_left_rotation=5, max_right_rotation=10)"
   ]
  },
  {
   "cell_type": "code",
   "execution_count": 35,
   "id": "e579deb6",
   "metadata": {},
   "outputs": [],
   "source": [
    "p.zoom(probability=0.3, min_factor=1.1, max_factor=1.6)"
   ]
  },
  {
   "cell_type": "code",
   "execution_count": 36,
   "id": "6843fdee",
   "metadata": {},
   "outputs": [],
   "source": [
    "#p.flip_left_right(probability=0.4)"
   ]
  },
  {
   "cell_type": "code",
   "execution_count": 37,
   "id": "4e96c7fa",
   "metadata": {},
   "outputs": [],
   "source": [
    "p.shear(1,20,20)"
   ]
  },
  {
   "cell_type": "code",
   "execution_count": 38,
   "id": "a8fecde1",
   "metadata": {},
   "outputs": [],
   "source": [
    "p.random_distortion(1,8,8,8)"
   ]
  },
  {
   "cell_type": "code",
   "execution_count": 39,
   "id": "0d03a3a2",
   "metadata": {
    "scrolled": true
   },
   "outputs": [
    {
     "name": "stdout",
     "output_type": "stream",
     "text": [
      "Operations: 4\n",
      "\t0: RotateRange (probability=1.0 max_left_rotation=-5 max_right_rotation=10 )\n",
      "\t1: Zoom (probability=0.3 min_factor=1.1 max_factor=1.6 )\n",
      "\t2: Shear (probability=1 max_shear_left=20 max_shear_right=20 )\n",
      "\t3: Distort (probability=1 grid_width=8 grid_height=8 magnitude=8 randomise_magnitude=True )\n",
      "Images: 6\n",
      "Classes: 1\n",
      "\tClass index: 0 Class label: Tamil \n",
      "Dimensions: 6\n",
      "\tWidth: 4624 Height: 3468\n",
      "\tWidth: 715 Height: 1280\n",
      "\tWidth: 4000 Height: 3000\n",
      "\tWidth: 637 Height: 520\n",
      "\tWidth: 617 Height: 511\n",
      "\tWidth: 840 Height: 679\n",
      "Formats: 1\n",
      "\t JPEG\n",
      "\n",
      "You can remove operations using the appropriate index and the remove_operation(index) function.\n"
     ]
    }
   ],
   "source": [
    "p.status()"
   ]
  },
  {
   "cell_type": "code",
   "execution_count": 31,
   "id": "7fad2256",
   "metadata": {},
   "outputs": [],
   "source": [
    "#p.remove_operation(2)"
   ]
  },
  {
   "cell_type": "code",
   "execution_count": 40,
   "id": "0fef05c1",
   "metadata": {},
   "outputs": [
    {
     "name": "stderr",
     "output_type": "stream",
     "text": [
      "Processing <PIL.Image.Image image mode=RGB size=715x1280 at 0x2712FB22380>: 100%|█| 25/25 [00:52<00:00,  2.09s/ Samples\n"
     ]
    }
   ],
   "source": [
    "num_of_samples = 25\n",
    "p.sample(num_of_samples)"
   ]
  },
  {
   "cell_type": "code",
   "execution_count": null,
   "id": "23dfc9a3",
   "metadata": {},
   "outputs": [],
   "source": []
  }
 ],
 "metadata": {
  "kernelspec": {
   "display_name": "Python 3 (ipykernel)",
   "language": "python",
   "name": "python3"
  },
  "language_info": {
   "codemirror_mode": {
    "name": "ipython",
    "version": 3
   },
   "file_extension": ".py",
   "mimetype": "text/x-python",
   "name": "python",
   "nbconvert_exporter": "python",
   "pygments_lexer": "ipython3",
   "version": "3.10.4"
  }
 },
 "nbformat": 4,
 "nbformat_minor": 5
}

{
 "cells": [
  {
   "cell_type": "code",
   "execution_count": 1,
   "metadata": {
    "executionInfo": {
     "elapsed": 11,
     "status": "ok",
     "timestamp": 1669958404786,
     "user": {
      "displayName": "praddhumna soni",
      "userId": "06313833707299587303"
     },
     "user_tz": -330
    },
    "id": "BHwEQC5FXcvf"
   },
   "outputs": [],
   "source": [
    "import cv2\n",
    "from typing import Tuple\n",
    "import numpy as np\n",
    "#from google.colab.patches import cv2_imshow\n",
    "import os"
   ]
  },
  {
   "cell_type": "code",
   "execution_count": 2,
   "metadata": {
    "executionInfo": {
     "elapsed": 11,
     "status": "ok",
     "timestamp": 1669958404788,
     "user": {
      "displayName": "praddhumna soni",
      "userId": "06313833707299587303"
     },
     "user_tz": -330
    },
    "id": "jXtFLJ3_XeDs"
   },
   "outputs": [],
   "source": [
    "def resize_with_pad(image: np.array, \n",
    "                    new_shape: Tuple[int, int], \n",
    "                    padding_color: Tuple[int] = (255, 255, 255)) -> np.array:\n",
    "    \"\"\"Maintains aspect ratio and resizes with padding.\n",
    "    Params:\n",
    "        image: Image to be resized.\n",
    "        new_shape: Expected (width, height) of new image.\n",
    "        padding_color: Tuple in BGR of padding color\n",
    "    Returns:\n",
    "        image: Resized image with padding\n",
    "    \"\"\"\n",
    "    original_shape = (image.shape[1], image.shape[0])\n",
    "    ratio = float(max(new_shape))/max(original_shape)\n",
    "    new_size = tuple([int(x*ratio) for x in original_shape])\n",
    "    image = cv2.resize(image, new_size)\n",
    "    delta_w = new_shape[0] - new_size[0]\n",
    "    delta_h = new_shape[1] - new_size[1]\n",
    "    top, bottom = delta_h//2, delta_h-(delta_h//2)\n",
    "    left, right = delta_w//2, delta_w-(delta_w//2)\n",
    "    image = cv2.copyMakeBorder(image, top, bottom, left, right, cv2.BORDER_CONSTANT, value=padding_color)\n",
    "    return image\n",
    "  \n",
    "\n"
   ]
  },
  {
   "cell_type": "code",
   "execution_count": 3,
   "metadata": {
    "executionInfo": {
     "elapsed": 383,
     "status": "ok",
     "timestamp": 1669980098624,
     "user": {
      "displayName": "praddhumna soni",
      "userId": "06313833707299587303"
     },
     "user_tz": -330
    },
    "id": "j9kVzghAm2DU"
   },
   "outputs": [],
   "source": [
    "os.chdir(r\"E:\\Happymonk\\resized person&vehicle\")"
   ]
  },
  {
   "cell_type": "code",
   "execution_count": 4,
   "metadata": {
    "colab": {
     "base_uri": "https://localhost:8080/",
     "height": 36
    },
    "executionInfo": {
     "elapsed": 19,
     "status": "ok",
     "timestamp": 1669980100080,
     "user": {
      "displayName": "praddhumna soni",
      "userId": "06313833707299587303"
     },
     "user_tz": -330
    },
    "id": "gxX7IsubeOxu",
    "outputId": "2972ca1e-7136-418c-95df-eea5282a9adc"
   },
   "outputs": [
    {
     "data": {
      "text/plain": [
       "'E:\\\\Happymonk\\\\resized people with vehicle'"
      ]
     },
     "execution_count": 4,
     "metadata": {},
     "output_type": "execute_result"
    }
   ],
   "source": [
    "pwd"
   ]
  },
  {
   "cell_type": "code",
   "execution_count": 7,
   "metadata": {
    "colab": {
     "base_uri": "https://localhost:8080/"
    },
    "executionInfo": {
     "elapsed": 14672,
     "status": "ok",
     "timestamp": 1669980118523,
     "user": {
      "displayName": "praddhumna soni",
      "userId": "06313833707299587303"
     },
     "user_tz": -330
    },
    "id": "r1zASvkGYJeU",
    "outputId": "5fc3fa9c-99bc-4cb2-b21d-f98bd8f5e3c5"
   },
   "outputs": [
    {
     "name": "stdout",
     "output_type": "stream",
     "text": [
      "1  2  3  4  5  6  7  8  9  10  11  12  13  14  15  16  17  18  19  20  21  22  23  24  25  26  27  28  29  30  31  32  33  34  35  36  37  38  39  40  41  42  43  44  45  46  47  48  49  50  51  52  53  54  55  56  57  58  59  60  61  62  63  64  65  66  67  68  69  70  71  72  73  74  75  76  77  "
     ]
    }
   ],
   "source": [
    "count = 1\n",
    "for i in os.listdir(\"E:\\Happymonk\\person&vehicle\"):\n",
    "  img = cv2.imread(os.path.join(\"E:\\Happymonk\\person&vehicle\",i))\n",
    "  img = resize_with_pad(img, (640, 640))\n",
    "  name,_ = i.split('.')\n",
    "  fileName = name+'0'+\".jpg\"\n",
    "  cv2.imwrite(fileName, img)\n",
    "  print(count,\" \",end=\"\")\n",
    "  count+=1\n",
    "\n",
    "  "
   ]
  },
  {
   "cell_type": "code",
   "execution_count": null,
   "metadata": {
    "id": "Hs8QG2XulCe7"
   },
   "outputs": [],
   "source": [
    "  "
   ]
  },
  {
   "cell_type": "code",
   "execution_count": null,
   "metadata": {
    "id": "Eb3Tb2m3ybvL"
   },
   "outputs": [],
   "source": []
  }
 ],
 "metadata": {
  "colab": {
   "authorship_tag": "ABX9TyPbhPPGY4NPPLzxwqcrUGyy",
   "mount_file_id": "1eUugrpmX2CL4Zk-35dQi_eXLpF3z-bUd",
   "provenance": []
  },
  "kernelspec": {
   "display_name": "Python 3 (ipykernel)",
   "language": "python",
   "name": "python3"
  },
  "language_info": {
   "codemirror_mode": {
    "name": "ipython",
    "version": 3
   },
   "file_extension": ".py",
   "mimetype": "text/x-python",
   "name": "python",
   "nbconvert_exporter": "python",
   "pygments_lexer": "ipython3",
   "version": "3.9.12"
  }
 },
 "nbformat": 4,
 "nbformat_minor": 1
}

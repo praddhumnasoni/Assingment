{
 "cells": [
  {
   "cell_type": "code",
   "execution_count": null,
   "id": "abfa21db",
   "metadata": {},
   "outputs": [],
   "source": [
    "pip install icrawler"
   ]
  },
  {
   "cell_type": "code",
   "execution_count": null,
   "id": "0d2f3175",
   "metadata": {},
   "outputs": [],
   "source": [
    "import os\n",
    "os.chdir(\"E:\\\\Happymonk\\\\Name plate\")"
   ]
  },
  {
   "cell_type": "code",
   "execution_count": null,
   "id": "b972a079",
   "metadata": {},
   "outputs": [],
   "source": [
    "from icrawler.builtin import GoogleImageCrawler\n",
    "\n",
    "google_crawler = GoogleImageCrawler(\n",
    "    feeder_threads=1,\n",
    "    parser_threads=2,\n",
    "    downloader_threads=4,\n",
    "    storage={'root_dir': 'urdu'})\n",
    "filters = dict(\n",
    "    size='large')\n",
    "# strtemp = 'Guduchi Leaf or Guduchi Leaves or Giloy Leaf or Giloy Leaves or Gulvel Leaf or Gulvel Leaves or Tinospora cordifolia Leaf or Tinospora cordifolia Leaves'\n",
    "# lis = strtemp.split(' or ')\n",
    "\n",
    "# for i in lis:\n",
    "google_crawler.crawl(keyword = 'license plate in urdu language', filters=filters, max_num=1000, file_idx_offset=\"auto\")"
   ]
  }
 ],
 "metadata": {
  "kernelspec": {
   "display_name": "Python 3 (ipykernel)",
   "language": "python",
   "name": "python3"
  },
  "language_info": {
   "codemirror_mode": {
    "name": "ipython",
    "version": 3
   },
   "file_extension": ".py",
   "mimetype": "text/x-python",
   "name": "python",
   "nbconvert_exporter": "python",
   "pygments_lexer": "ipython3",
   "version": "3.9.12"
  }
 },
 "nbformat": 4,
 "nbformat_minor": 5
}
